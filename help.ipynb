{
 "cells": [
  {
   "cell_type": "code",
   "execution_count": null,
   "metadata": {},
   "outputs": [],
   "source": [
    "import pandas as pd\n",
    "\n",
    "clasificados = pd.read_csv(\"n1f1.csv\")\n",
    "\n",
    "for index, row in clasificados.iterrows():\n",
    "    print(\n",
    "        f\"\"\"\n",
    "<tr>\n",
    "    <td data-label=\"Departamento\">{row['Departamento']}</td>\n",
    "    <td data-label=\"Dependencia\">{row['Dependencia']}</td>\n",
    "    <td data-label=\"Distrito\">{row['Distrito']}</td>\n",
    "    <td data-label=\"Nombre\">{row['Nombre']}</td>\n",
    "    <td data-label=\"Apellido Paterno\">{row['Apellido Paterno']}</td>\n",
    "    <td data-label=\"Apellido Materno\">{row['Apellido Materno']}</td>\n",
    "    <td data-label=\"Colegio\">{row['Colegio']}</td>\n",
    "    <td data-label=\"Curso\">{row['Curso']}</td>\n",
    "</tr>\n",
    "\"\"\"\n",
    "    )"
   ]
  },
  {
   "cell_type": "code",
   "execution_count": null,
   "metadata": {},
   "outputs": [],
   "source": [
    "clasificados = pd.read_csv(\"n1f2.csv\")\n",
    "\n",
    "for index, row in clasificados.iterrows():\n",
    "    print(\n",
    "        f\"\"\"\n",
    "<tr>\n",
    "    <td data-label=\"Nombre\">{row['Nombre']}</td>\n",
    "    <td data-label=\"Apellido Paterno\">{row['Apellido Paterno']}</td>\n",
    "    <td data-label=\"Apellido Materno\">{row['Apellido Materno']}</td>\n",
    "    <td data-label=\"Colegio\">{row['Colegio']}</td>\n",
    "    <td data-label=\"Curso\">{row['Curso']}</td>\n",
    "</tr>\n",
    "\"\"\"\n",
    "    )"
   ]
  }
 ],
 "metadata": {
  "kernelspec": {
   "display_name": "web-scraping",
   "language": "python",
   "name": "python3"
  },
  "language_info": {
   "codemirror_mode": {
    "name": "ipython",
    "version": 3
   },
   "file_extension": ".py",
   "mimetype": "text/x-python",
   "name": "python",
   "nbconvert_exporter": "python",
   "pygments_lexer": "ipython3",
   "version": "3.11.10"
  }
 },
 "nbformat": 4,
 "nbformat_minor": 2
}
